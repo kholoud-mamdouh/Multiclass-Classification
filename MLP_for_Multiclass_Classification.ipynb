{
  "cells": [
    {
      "cell_type": "code",
      "execution_count": null,
      "id": "27192705",
      "metadata": {
        "id": "27192705"
      },
      "outputs": [],
      "source": [
        "\n",
        "import numpy as np\n",
        "import os\n",
        "import math\n",
        "import matplotlib\n",
        "import matplotlib.pyplot as plt\n",
        "\n",
        "from sklearn.metrics import accuracy_score ,  precision_score, recall_score, f1_score, confusion_matrix\n",
        "\n",
        "\n",
        "# to make this notebook's output stable across runs\n",
        "np.random.seed(42)\n",
        "\n",
        "\n"
      ]
    },
    {
      "cell_type": "markdown",
      "id": "48caab0a",
      "metadata": {
        "id": "48caab0a"
      },
      "source": [
        "# Fetching Mnist Dataset"
      ]
    },
    {
      "cell_type": "code",
      "execution_count": null,
      "id": "6a960cd0",
      "metadata": {
        "id": "6a960cd0"
      },
      "outputs": [],
      "source": [
        "\n",
        "\n",
        "from sklearn.datasets import fetch_openml\n",
        "\n",
        "X,y = fetch_openml('mnist_784',version=1, cache=True, return_X_y=True )\n",
        "\n"
      ]
    },
    {
      "cell_type": "code",
      "execution_count": null,
      "id": "9c8b8d03",
      "metadata": {
        "id": "9c8b8d03"
      },
      "outputs": [],
      "source": [
        "\n",
        "# Use the notion of y=f(X)\n",
        "y = y.astype(int)\n",
        "\n"
      ]
    },
    {
      "cell_type": "code",
      "execution_count": null,
      "id": "197d2479",
      "metadata": {
        "id": "197d2479",
        "outputId": "73ee12d5-9dd4-4065-c6e3-0471443d6a1f"
      },
      "outputs": [
        {
          "name": "stdout",
          "output_type": "stream",
          "text": [
            "Data size: 70000 x 784 and label size 70000\n",
            "The images are of size: 28.0 x 28.0\n"
          ]
        }
      ],
      "source": [
        "\n",
        "print('Data size: {0} x {1} and label size {2}'.format( X.shape[0] ,   X.shape[1]  ,  y.shape[0] ) )\n",
        "print('The images are of size: {0} x {0}'.format(math.sqrt (X.shape[1])   ))\n",
        "\n"
      ]
    },
    {
      "cell_type": "code",
      "execution_count": null,
      "id": "2cf13b1c",
      "metadata": {
        "id": "2cf13b1c"
      },
      "outputs": [],
      "source": [
        "\n",
        "X =  X.to_numpy( )\n",
        "\n"
      ]
    },
    {
      "cell_type": "markdown",
      "id": "1658c031",
      "metadata": {
        "id": "1658c031"
      },
      "source": [
        "\n",
        "# Test and Training Data\n",
        "\n",
        "Split data into test and training data after re-shuffling the data. We can simply take the first 60000 as training and the last 10000 as test."
      ]
    },
    {
      "cell_type": "code",
      "execution_count": null,
      "id": "6b52a489",
      "metadata": {
        "id": "6b52a489"
      },
      "outputs": [],
      "source": [
        "\n",
        "\n",
        "from sklearn.model_selection import train_test_split\n",
        "\n",
        "X_train, X_test, y_train, y_test = train_test_split( X,  y, test_size = 0.1, stratify=y, random_state=42)\n"
      ]
    },
    {
      "cell_type": "code",
      "execution_count": null,
      "id": "1fddced7",
      "metadata": {
        "id": "1fddced7",
        "outputId": "d14fa428-dc7e-427c-92bb-fa20e2384d52"
      },
      "outputs": [
        {
          "name": "stdout",
          "output_type": "stream",
          "text": [
            " The Number of Training data is  63000\n",
            " The Number of Testing data is  7000\n"
          ]
        }
      ],
      "source": [
        "\n",
        "print(  \" The Number of Training data is \" ,  X_train.shape[0] )\n",
        "print(  \" The Number of Testing data is \"  ,  X_test.shape[0] )\n",
        "\n"
      ]
    },
    {
      "cell_type": "code",
      "execution_count": null,
      "id": "2d61b1f7",
      "metadata": {
        "id": "2d61b1f7",
        "outputId": "1d60b9ab-d487-4876-dd09-876ae2968363"
      },
      "outputs": [
        {
          "name": "stdout",
          "output_type": "stream",
          "text": [
            "Iteration 1, loss = 1.31655236\n",
            "Iteration 2, loss = 0.35438469\n",
            "Iteration 3, loss = 0.27957069\n",
            "Iteration 4, loss = 0.23424830\n",
            "Iteration 5, loss = 0.20627457\n",
            "Iteration 6, loss = 0.18562844\n",
            "Iteration 7, loss = 0.16899309\n",
            "Iteration 8, loss = 0.15429678\n",
            "Iteration 9, loss = 0.14246543\n",
            "Iteration 10, loss = 0.13332715\n"
          ]
        },
        {
          "name": "stderr",
          "output_type": "stream",
          "text": [
            "C:\\Users\\Hussien_PC\\anaconda3\\lib\\site-packages\\sklearn\\neural_network\\_multilayer_perceptron.py:614: ConvergenceWarning: Stochastic Optimizer: Maximum iterations (10) reached and the optimization hasn't converged yet.\n",
            "  warnings.warn(\n"
          ]
        },
        {
          "data": {
            "text/plain": [
              "MLPClassifier(hidden_layer_sizes=(200, 400, 150, 100), max_iter=10,\n",
              "              solver='sgd', validation_fraction=0.0, verbose='true')"
            ]
          },
          "execution_count": 16,
          "metadata": {},
          "output_type": "execute_result"
        }
      ],
      "source": [
        "\n",
        "\n",
        "from sklearn.neural_network import MLPClassifier\n",
        "\n",
        "MLP_model = MLPClassifier( hidden_layer_sizes= ( 200 , 400 , 150 , 100) ,   max_iter=10,solver='sgd',verbose='true',validation_fraction=0.0)\n",
        "\n",
        "MLP_model.fit(X_train, y_train)\n",
        "\n",
        "\n"
      ]
    },
    {
      "cell_type": "code",
      "execution_count": null,
      "id": "1f7fdc8d",
      "metadata": {
        "id": "1f7fdc8d",
        "outputId": "373cd3d4-9cd1-4cd7-d0ff-776d90a7fa36"
      },
      "outputs": [
        {
          "name": "stdout",
          "output_type": "stream",
          "text": [
            "6\n",
            "(200, 400, 150, 100)\n",
            "Layer  0 Weights  (784, 200) Bias is  (200,)\n",
            "Layer  1 Weights  (200, 400) Bias is  (400,)\n",
            "Layer  2 Weights  (400, 150) Bias is  (150,)\n",
            "Layer  3 Weights  (150, 100) Bias is  (100,)\n",
            "Layer  4 Weights  (100, 10) Bias is  (10,)\n"
          ]
        }
      ],
      "source": [
        "\n",
        "\n",
        "print( MLP_model.n_layers_ )\n",
        "\n",
        "print( MLP_model.hidden_layer_sizes)\n",
        "\n",
        "for layer in range( MLP_model.n_layers_-1 ):\n",
        "    print( \"Layer \" , layer , \"Weights \" , MLP_model.coefs_[layer].shape , \"Bias is \" , MLP_model.intercepts_[layer].shape )  \n",
        "\n",
        "    "
      ]
    },
    {
      "cell_type": "code",
      "execution_count": null,
      "id": "d1d32f81",
      "metadata": {
        "id": "d1d32f81"
      },
      "outputs": [],
      "source": [
        "\n",
        "y_pred = MLP_model.predict(X_train)\n",
        "y_pred_test = MLP_model.predict(X_test)\n",
        "\n",
        " "
      ]
    },
    {
      "cell_type": "code",
      "execution_count": null,
      "id": "cc4f5409",
      "metadata": {
        "id": "cc4f5409"
      },
      "outputs": [],
      "source": [
        "\n",
        "\n",
        "from sklearn.metrics import classification_report\n",
        "import seaborn as sns \n",
        "\n",
        "\n",
        "def drawing_conf_matrix(  y_actual , y_predict ):\n",
        "    \n",
        "    print( \"Classification Report\" )\n",
        "    print ( classification_report(  y_actual , y_predict  )  )  # to represent accuacy, precision, recall and f1 score\n",
        "\n",
        "    conf_mat = confusion_matrix( y_actual,   y_predict )   # to represent confusion matrix ( TP , FP , FN , FN )\n",
        "    \n",
        "    print( \"Confusion Matrix\")\n",
        "    print( conf_mat )\n",
        "    sns.heatmap( conf_mat , annot= True  , fmt = \"\" )\n",
        "    plt.ylabel('True label')\n",
        "    plt.xlabel('Predicted label')\n",
        "\n",
        "    "
      ]
    },
    {
      "cell_type": "code",
      "execution_count": null,
      "id": "67c85d71",
      "metadata": {
        "id": "67c85d71"
      },
      "outputs": [],
      "source": []
    },
    {
      "cell_type": "code",
      "execution_count": null,
      "id": "6927981a",
      "metadata": {
        "id": "6927981a"
      },
      "outputs": [],
      "source": []
    },
    {
      "cell_type": "code",
      "execution_count": null,
      "id": "c8096bac",
      "metadata": {
        "id": "c8096bac",
        "outputId": "3de403d1-5279-4970-ed83-f1a48ba4f8a6"
      },
      "outputs": [
        {
          "name": "stdout",
          "output_type": "stream",
          "text": [
            "Classification Report\n",
            "              precision    recall  f1-score   support\n",
            "\n",
            "           0       0.99      0.95      0.97      6213\n",
            "           1       0.97      0.98      0.97      7089\n",
            "           2       0.94      0.90      0.92      6291\n",
            "           3       0.95      0.87      0.91      6427\n",
            "           4       0.96      0.89      0.92      6142\n",
            "           5       0.94      0.89      0.91      5682\n",
            "           6       0.94      0.96      0.95      6188\n",
            "           7       0.93      0.95      0.94      6564\n",
            "           8       0.79      0.95      0.86      6142\n",
            "           9       0.88      0.90      0.89      6262\n",
            "\n",
            "    accuracy                           0.92     63000\n",
            "   macro avg       0.93      0.92      0.92     63000\n",
            "weighted avg       0.93      0.92      0.92     63000\n",
            "\n",
            "Confusion Matrix\n",
            "[[5876    0   18    5   12   10   31   10  250    1]\n",
            " [   1 6978   17    6    5   13    5   13   48    3]\n",
            " [  23   40 5638   65   50    4   84   64  312   11]\n",
            " [   1   21  208 5574    2  178    8   98  271   66]\n",
            " [   5   23   12    0 5470    5   61    6   83  477]\n",
            " [  17   39   12  179   14 5069  100   13  205   34]\n",
            " [  15   16   18    1   16   44 5940    0  138    0]\n",
            " [   9   27   51    5   25    2    3 6236   42  164]\n",
            " [   2   53   55   26   12   42   63   29 5824   36]\n",
            " [  15   32    0   17  114   41    1  206  213 5623]]\n"
          ]
        },
        {
          "data": {
            "image/png": "[encoded data removed]",
            "text/plain": [
              "<Figure size 432x288 with 2 Axes>"
            ]
          },
          "metadata": {
            "needs_background": "light"
          },
          "output_type": "display_data"
        }
      ],
      "source": [
        "drawing_conf_matrix( y_train , y_pred)\n"
      ]
    },
    {
      "cell_type": "code",
      "execution_count": null,
      "id": "a14988db",
      "metadata": {
        "id": "a14988db"
      },
      "outputs": [],
      "source": []
    },
    {
      "cell_type": "code",
      "execution_count": null,
      "id": "267376d4",
      "metadata": {
        "id": "267376d4",
        "outputId": "8d197895-8641-4ed0-daf8-428034bbe63d"
      },
      "outputs": [
        {
          "name": "stdout",
          "output_type": "stream",
          "text": [
            "Classification Report\n",
            "              precision    recall  f1-score   support\n",
            "\n",
            "           0       0.98      0.94      0.96       690\n",
            "           1       0.95      0.98      0.97       788\n",
            "           2       0.93      0.91      0.92       699\n",
            "           3       0.92      0.84      0.88       714\n",
            "           4       0.95      0.86      0.90       682\n",
            "           5       0.92      0.87      0.90       631\n",
            "           6       0.94      0.97      0.95       688\n",
            "           7       0.94      0.94      0.94       729\n",
            "           8       0.80      0.93      0.86       683\n",
            "           9       0.84      0.89      0.87       696\n",
            "\n",
            "    accuracy                           0.91      7000\n",
            "   macro avg       0.92      0.91      0.91      7000\n",
            "weighted avg       0.92      0.91      0.91      7000\n",
            "\n",
            "Confusion Matrix\n",
            "[[651   0   4   0   2   2   4   0  26   1]\n",
            " [  1 773   1   2   0   3   0   1   6   1]\n",
            " [  1   6 637   9   6   1   8   7  22   2]\n",
            " [  1   4  30 599   0  24   3  15  34   4]\n",
            " [  0   4   1   0 584   1   8   0  12  72]\n",
            " [  1   4   0  28   3 551  10   1  27   6]\n",
            " [  4   0   2   0   2   3 665   0  12   0]\n",
            " [  2   4   6   0   1   0   1 687   5  23]\n",
            " [  0   7   6  10   3   4   7   4 635   7]\n",
            " [  2  10   1   6  14  10   0  15  19 619]]\n"
          ]
        },
        {
          "data": {
            "image/png": "[encoded data removed]",
            "text/plain": [
              "<Figure size 432x288 with 2 Axes>"
            ]
          },
          "metadata": {
            "needs_background": "light"
          },
          "output_type": "display_data"
        }
      ],
      "source": [
        "drawing_conf_matrix( y_test, y_pred_test  )\n"
      ]
    },
    {
      "cell_type": "code",
      "execution_count": null,
      "id": "0f872c0d",
      "metadata": {
        "id": "0f872c0d"
      },
      "outputs": [],
      "source": []
    },
    {
      "cell_type": "code",
      "execution_count": null,
      "id": "c4057ca2",
      "metadata": {
        "id": "c4057ca2"
      },
      "outputs": [],
      "source": []
    },
    {
      "cell_type": "code",
      "execution_count": null,
      "id": "cee524d0",
      "metadata": {
        "id": "cee524d0"
      },
      "outputs": [],
      "source": []
    }
  ],
  "metadata": {
    "kernelspec": {
      "display_name": "Python 3",
      "language": "python",
      "name": "python3"
    },
    "language_info": {
      "codemirror_mode": {
        "name": "ipython",
        "version": 3
      },
      "file_extension": ".py",
      "mimetype": "text/x-python",
      "name": "python",
      "nbconvert_exporter": "python",
      "pygments_lexer": "ipython3",
      "version": "3.8.8"
    },
    "colab": {
      "provenance": []
    }
  },
  "nbformat": 4,
  "nbformat_minor": 5
}